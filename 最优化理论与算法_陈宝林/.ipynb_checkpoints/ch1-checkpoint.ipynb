{
 "cells": [
  {
   "cell_type": "markdown",
   "metadata": {},
   "source": [
    "# 第一章，引言"
   ]
  },
  {
   "cell_type": "markdown",
   "metadata": {},
   "source": [
    "1.用定义验证下列各集合是凸集：\n",
    "\n",
    "(1)$S=\\left\\{\\left(x_1,x_2\\right)| x_1+2x_2\\geq 1,x_1-x_2\\geq 1\\right\\}$\n",
    "\n",
    "(2)$S=\\left\\{\\left(x_1,x_2\\right) | x_2\\geq \\left|x_1\\right|\\right\\}$\n",
    "\n",
    "(3)$S=\\left\\{\\left(x_1,x_2\\right)|x_1^2+x_2^2\\leq 10\\right\\}$"
   ]
  },
  {
   "cell_type": "markdown",
   "metadata": {},
   "source": [
    "***\n",
    "只需验证$\\forall x,y\\in S$有$\\alpha x+\\beta y\\in S,\\alpha+\\beta\\leq1,\\alpha,\\beta\\geq 0$\n",
    "***"
   ]
  },
  {
   "cell_type": "markdown",
   "metadata": {},
   "source": [
    "2.设$C\\subset E^p$是一个凸集，$p$是一个正整数。证明下列集合$S$是$E^n$中的凸集：\n",
    "\n",
    "$$S=\\left\\{x|x\\in E^n,x=A\\rho,\\rho\\in C\\right\\}$$\n",
    "其中$A$是给定的$n\\times p$的实矩阵"
   ]
  },
  {
   "cell_type": "markdown",
   "metadata": {},
   "source": [
    "3.证明下列集合$S$是凸集：\n",
    "$$S=\\left\\{x|x=Ay,y\\geq 0\\right\\}$$\n",
    "其中$A$是$n\\times m$矩阵，$x\\in E^n,y\\in E^m$"
   ]
  },
  {
   "cell_type": "markdown",
   "metadata": {},
   "source": [
    "***\n",
    "以上均可由定义直接得出\n",
    "***"
   ]
  },
  {
   "cell_type": "markdown",
   "metadata": {},
   "source": [
    "4.设$S$是$E^n$中一个非空凸集。证明对每一个整数$k\\geq 2$，若$x^{(1)},x^{(2)},\\ldots,x^{(k)}\\in S$，则\n",
    "$$\\sum_{i=1}^k \\lambda_i x^{(i)}\\in S$$\n",
    "其中$\\lambda_1+\\lambda_2+\\ldots+\\lambda_k=1,\\lambda_i\\geq 0,i=1,\\ldots,k$"
   ]
  },
  {
   "cell_type": "markdown",
   "metadata": {},
   "source": [
    "***\n",
    "如何使用好归纳法显得十分重要，不妨假设对$k-1$成立，那么如何从$k-1$个系数和为1过度到$k$个系数和为1呢？\n",
    "显然，再直接加是不可能的了。如果求和不是1，我们把它归一化不久可以了吗？\n",
    "前$k-1$项提个系数出来，让它里面归一化便好\n",
    "***"
   ]
  },
  {
   "cell_type": "markdown",
   "metadata": {},
   "source": [
    "5.设$A$是$m\\times n$矩阵，$B$是$l\\times n$矩阵，$c\\in E^n$，证明下列两个系统恰有一个有解：\n",
    "\n",
    "系1 $Ax\\leq 0,Bx=0,c^Tx>0$对某些$x\\in E^n$\n",
    "\n",
    "系2 $A^Ty+B^Tz=c,y\\geq 0$对某些$y\\in E^m$和$z\\in E^l$"
   ]
  },
  {
   "cell_type": "markdown",
   "metadata": {},
   "source": [
    "***\n",
    "(Farkas定理) 设$A$为$m\\times n$矩阵，$c$为$n$维向量，则$Ax\\leq 0,c^Tx>0$有解的充要条件是$A^Ty=c,y\\geq 0$无解。\n",
    "***"
   ]
  },
  {
   "cell_type": "markdown",
   "metadata": {},
   "source": [
    "我们只需要将系统一往Fakas定理的前半部分靠即可，将$Bx=0$改写成$Bx\\leq 0,-Bx\\leq 0$\n",
    "***"
   ]
  },
  {
   "cell_type": "markdown",
   "metadata": {},
   "source": [
    "6.设$A$是$m\\times n$矩阵，$c\\in E^n$，则下列两个系统恰有一个有解：\n",
    "\n",
    "系1 $Ax\\leq 0,x\\geq 0,c^Tx>0$对某些$x\\in E^n$\n",
    "\n",
    "系2 $A^Ty\\geq c,y\\geq 0$对某些$y\\in E^m$"
   ]
  },
  {
   "cell_type": "markdown",
   "metadata": {},
   "source": [
    "***\n",
    "同样$x\\geq0\\Rightarrow -I\\cdot x\\leq 0$\n",
    "***"
   ]
  },
  {
   "cell_type": "markdown",
   "metadata": {},
   "source": [
    "7.证明$Ax\\leq 0,c^Tx>0$有解。\n",
    "\n",
    "其中$A=\\left[\\begin{array}{ccc}\n",
    "1&-2&1\\\\\n",
    "-1&1&1\\\\\n",
    "\\end{array}\n",
    "\\right],c=\\left[\n",
    "\\begin{array}{c}\n",
    " 2\\\\\n",
    " 1\\\\\n",
    " 0\\\\\n",
    "\\end{array}\n",
    "\\right]$\n"
   ]
  },
  {
   "cell_type": "markdown",
   "metadata": {},
   "source": [
    "***\n",
    "根据Farkas写出对偶形式，然后证明那个形式下无解即可，因为转换过去以后是等式，相对比较好判断。\n",
    "***"
   ]
  },
  {
   "cell_type": "markdown",
   "metadata": {},
   "source": [
    "8.证明下列不等式组无解\n",
    "\n",
    "$$\\left\\{\\begin{array}{c}\n",
    "x_1+3x_2<0\\\\\n",
    "3x_1-x_2<0\\\\\n",
    "17x_1+11x_2>0\\\\\n",
    "\\end{array}\n",
    "\\right.$$"
   ]
  },
  {
   "cell_type": "markdown",
   "metadata": {},
   "source": [
    "***\n",
    "还是Farkas\n",
    "***"
   ]
  },
  {
   "cell_type": "markdown",
   "metadata": {},
   "source": [
    "9.判别下列函数是否为凸函数\n",
    "\n",
    "(1)$f(x_1,x_2)=x_1^2-2x_1x_2+x_2^2+x_1+x_2$\n",
    "\n",
    "(2)$f(x_1,x_2)=x_1^2-4x_1x_2+x_2^2+x_1+x_2$\n",
    "\n",
    "(3)$f(x_1,x_2)=(x_1-x_2)^2+4x_1x_2+e^{x_1+x_2}$\n",
    "\n",
    "(4)$f(x_1,x_2)=x_1 e^{-(x_1+x_2)}$\n",
    "\n",
    "(5)$f(x_1,x_2,x_3)=x_1x_2+2x_1^2+x_2^2+2x_3^2-6x_1x_3$"
   ]
  },
  {
   "cell_type": "markdown",
   "metadata": {},
   "source": [
    "***\n",
    "算二阶Hessian矩阵即可\n",
    "***"
   ]
  },
  {
   "cell_type": "markdown",
   "metadata": {},
   "source": [
    "10.设$f(x_1,x_2)=10-2\\left(x_2-x_1^2\\right)^2$\n",
    "$$S=\\left\\{\\left(x_1,x_2\\right)| -11\\leq x_1\\leq 1,-1\\leq x_2\\leq 1\\right\\}$$\n",
    "$f(x_1,x_2)$是否为$S$上的凸函数？"
   ]
  },
  {
   "cell_type": "markdown",
   "metadata": {},
   "source": [
    "***\n",
    "初步判断，不是\n",
    "***"
   ]
  },
  {
   "cell_type": "markdown",
   "metadata": {},
   "source": [
    "11.证明$f(x)=\\frac{1}{2}x^TAx+b^Tx$为严格凸函数的充要条件是Hessian矩阵$A$正定。"
   ]
  },
  {
   "cell_type": "markdown",
   "metadata": {},
   "source": [
    "12.设$f$是定义在$E^n$上的凸函数，$x^{(1)},x^{(2)},\\ldots,x^{(k)}$是$E^n$种的点，$\\lambda_1,\\lambda_2,\\ldots,\\lambda_k$是非负数，且满足$\\lambda_1+\\lambda_2+\\ldots+\\lambda_k=1$证明\n",
    "$$f\\left(\\lambda_1 x^{(1)}+\\ldots \\lambda_k x^{(k)}\\right)\\leq \\lambda_1 f(x^{(1)})+\\ldots+\\lambda_k f(x^{(k)})$$"
   ]
  },
  {
   "cell_type": "markdown",
   "metadata": {},
   "source": [
    "***\n",
    "类似于之前的归纳法，放缩两次便可以了\n",
    "***"
   ]
  },
  {
   "cell_type": "markdown",
   "metadata": {},
   "source": [
    "13.设$f$是$E^n$上的凸函数，证明：如果$f$在某点$x\\in E^n$处具有整体极大值，则对一切点$x\\in E^n,f(x)$为常数"
   ]
  },
  {
   "cell_type": "markdown",
   "metadata": {},
   "source": [
    "14.设$f$是定义在$E^n$上的函数，如果对某一点$x\\in E^n$及正数$t$均有$f(tx)=tf(x)$，则称$f$为正齐次函数。证明$E^n$上的正齐次函数$f$为凸函数的充要条件是：对任意$x^{(1)},x^{(2)}\\in E^n$成立\n",
    "$$f\\left(x^{(1)}+x^{(2)}\\right)\\leq f\\left(x^{(1)}\\right)+f\\left(x^{(2)}\\right)$$"
   ]
  },
  {
   "cell_type": "markdown",
   "metadata": {},
   "source": [
    "***\n",
    "充分性显然，必要性放缩下\n",
    "***"
   ]
  },
  {
   "cell_type": "markdown",
   "metadata": {},
   "source": [
    "15.设$S$是$E^n$中非空凸集，$f$是定义在$S$上的实函数。若对任意的$x^{(1)},x^{(2)}\\in S$及每一个数$\\lambda\\in\\left(0,1\\right)$均成立\n",
    "$$f\\left(\\lambda x^{(1)}+\\left(1-\\lambda\\right)x^{(2)}\\right)\\leq \\max\\left\\{f(x^{(1)}),f(x^{(2)})\\right\\}$$\n",
    "则称$f$为准凸函数。\n",
    "\n",
    "试证明若$f(x)$是凸集$S$上的准凸函数，$\\bar{x}$是$f(x)$在$S$上的严格局部极小点，则$\\bar{x}$也是$f(x)$在$S$上的严格整体极小点。"
   ]
  },
  {
   "cell_type": "markdown",
   "metadata": {},
   "source": [
    "***\n",
    "把直觉上的邻域严格刻画出来\n",
    "***"
   ]
  },
  {
   "cell_type": "markdown",
   "metadata": {},
   "source": [
    "16.设$S$是$E^n$中一个非空开凸集，$f$是定义在$S$上的可微实函数。如果对任意两点$x^{(1)},x^{(2)}\\in S$，有\n",
    "$\\left(x^{(1)}-x^{(2)}\\right)^T\\nabla f(x^{(2)})\\geq 0$蕴含$f(x^{(1)})\\geq f(x^{(2)})$则称$f(x)$是伪凸函数\n",
    "\n",
    "试证明若$f(x)$是开凸集$S$上的伪凸函数，且对某个$\\bar{x}\\in S$，有$\\nabla f(\\bar{x})=0$，则$\\bar{x}$是$f(x)$在$S$上的整体极小点。"
   ]
  },
  {
   "cell_type": "markdown",
   "metadata": {},
   "source": [
    "带进去第一个，显然"
   ]
  }
 ],
 "metadata": {
  "kernelspec": {
   "display_name": "Python 3",
   "language": "python",
   "name": "python3"
  },
  "language_info": {
   "codemirror_mode": {
    "name": "ipython",
    "version": 3
   },
   "file_extension": ".py",
   "mimetype": "text/x-python",
   "name": "python",
   "nbconvert_exporter": "python",
   "pygments_lexer": "ipython3",
   "version": "3.7.0"
  }
 },
 "nbformat": 4,
 "nbformat_minor": 4
}
