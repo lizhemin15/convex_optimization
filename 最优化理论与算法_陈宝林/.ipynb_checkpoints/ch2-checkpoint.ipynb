{
 "cells": [
  {
   "cell_type": "markdown",
   "metadata": {},
   "source": [
    "1.用图解法解下列线性规划问题：\n",
    "\n",
    "(1)$\\min \\quad 5 x_{1}-6 x_{2}$\n",
    "\n",
    "s.t. $ \\quad x_{1}+2 x_{2} \\leqslant 10$\n",
    "\n",
    "$2 x_{1}-x_{2} \\leqslant 5$\n",
    "\n",
    "$x_{1}-4 x_{2}=4$\n",
    "\n",
    "$x_{1}, x_{2} \\geq 0$"
   ]
  },
  {
   "cell_type": "code",
   "execution_count": null,
   "metadata": {},
   "outputs": [],
   "source": [
    "import numpy as np\n",
    "import matplotlib.pyplot as plt\n",
    "\n",
    "def plot_linpro():\n",
    "    pass\n"
   ]
  },
  {
   "cell_type": "markdown",
   "metadata": {},
   "source": [
    "(2)min $-x_{1}+x_{2}$\n",
    "\n",
    "s.t. $ \\quad 3 x_{1}-7 x_{2} \\geqslant 8$\n",
    "\n",
    "$x_{1}-x_{2} \\leqslant \\hbar$\n",
    "\n",
    "$x_{1}, x_{2} \\geqslant 0$"
   ]
  },
  {
   "cell_type": "markdown",
   "metadata": {},
   "source": [
    "(3)\n",
    "$\\min 13 x_{x}+5 x_{2}$\n",
    "\n",
    "s.t. $ \\quad 7 x_{1}+3 x_{3} \\geqslant 19$\n",
    "\n",
    "$10 x_{1}+2 x_{2} \\leqslant 11$\n",
    "\n",
    "$x_{1}, x_{2} \\geqslant 0$"
   ]
  },
  {
   "cell_type": "markdown",
   "metadata": {},
   "source": [
    "(4)![](https://cdn.mathpix.com/snip/images/5kLQg8JYQkX8qEwkQ1P_j2vimT0gHY6kF1P90mlACUU.original.fullsize.png)"
   ]
  },
  {
   "cell_type": "markdown",
   "metadata": {},
   "source": [
    "(5)$\\min -3 x_{1}-2 x_{2}$\n",
    "\n",
    "s.t.$x_{1}-2 x_{2} \\leq 1$\n",
    "\n",
    "$x_{1}+x_{2} \\geq 1$\n",
    "\n",
    "$-x_{1}+2 x_{2} \\leqslant 1$\n",
    "\n",
    "$x_{1}, x_{2} \\geqslant 0$"
   ]
  },
  {
   "cell_type": "markdown",
   "metadata": {},
   "source": [
    "(6)$\\max \\quad 5 x_{1}+4 x_{2}$\n",
    "\n",
    "$\\begin{array}{ll}\\text { s.t. }  & -2 x_{1}+x_{2} \\geqslant-4\\end{array}$\n",
    "\n",
    "$x_{1}+2 x_{2} \\leq 6$\n",
    "\n",
    "$5 x_{1}+3 x_{2} \\leqslant 1.5$\n",
    "\n",
    "$x_{1}, x_{2} \\geqslant 0$"
   ]
  },
  {
   "cell_type": "markdown",
   "metadata": {},
   "source": [
    "(7)\n",
    "$\\max \\quad 3 x_{1}+ x_{2}$\n",
    "\n",
    "$\\begin{array}{ll}\\text { s.t. }  &  x_{1}-x_{2} \\geqslant0\\end{array}$\n",
    "\n",
    "$x_{1}+ x_{2} \\leq 5$\n",
    "\n",
    "$6 x_{1}+2 x_{2} \\leqslant 21$\n",
    "\n",
    "$x_{1}, x_{2} \\geqslant 0$"
   ]
  },
  {
   "cell_type": "markdown",
   "metadata": {},
   "source": [
    "2.下列问题都存在最优解，试通过求基本可行解来确定各问题的最优解。"
   ]
  },
  {
   "cell_type": "markdown",
   "metadata": {},
   "source": [
    "(1)$\\max \\quad 2 x_{1}-5 x_{2}$\n",
    "\n",
    "s.t. $ \\quad x_{1}+2 x_{2}+x_{3} \\quad=16$\n",
    "\n",
    "$2x_1+x_2+x_3=12$\n",
    "\n",
    "$x_j\\geq 0\\quad j=1,\\ldots,4$"
   ]
  },
  {
   "cell_type": "markdown",
   "metadata": {},
   "source": [
    "(2)$\\min -2 x_{1}+x_{2}+x_{3}+10 x_{4}$\n",
    "\n",
    "s.t. $ \\quad-x_{\\perp}+x_{2}+x_{3}-x_{4}=20$\n",
    "\n",
    "$2x_1-x_2+2x_4=10$\n",
    "\n",
    "$x_j\\geq 0,j=1,\\ldots,4$"
   ]
  },
  {
   "cell_type": "markdown",
   "metadata": {},
   "source": [
    "(3)![](https://cdn.mathpix.com/snip/images/3nLPW9S6-yDSfARy0y54OP_PCFwq6uzfT8zdRWoVqvw.original.fullsize.png)"
   ]
  },
  {
   "cell_type": "markdown",
   "metadata": {},
   "source": [
    "3.设$x^{(0)}=\\left(x_1^{(0)},x_2^{(0)},\\ldots,x_n^{(0)}\\right)$是$Ax=b$的一个解。其中$A=\\left(p_1,p_2,\\ldots,p_n\\right)$是$m\\times n$矩阵，$A$的秩为$m$。证明$x^{(0)}$是基本解的充要条件为$x^{(0)}$的非零分量$x_{i_1}^{(0)},x_{i_2}^{(0)},\\ldots,x_{i_s}^{(0)}$，对应的列$p_{i_1},p_{i_2},\\ldots,p_{i_s}$线性无关"
   ]
  },
  {
   "cell_type": "markdown",
   "metadata": {},
   "source": [
    "4.设$S=\\left\\{x|Ax\\geq b\\right\\}$，其中$A$是$m\\times n$矩阵，$m>n,A$的秩为$n$。证明$x^{(0)}$是$S$的极点的充要条件是$A$和$b$可作如下分解：\n",
    "$$A=\\left[\n",
    "\\begin{array}{c}\n",
    "A_1 \\\\\n",
    "A_2 \\\\\n",
    "\\end{array}\n",
    "\\right],\\left[\n",
    "\\begin{array}{c}\n",
    " b_1\\\\\n",
    " b_2\\\\\n",
    "\\end{array}\n",
    "\\right]$$\n",
    "其中$A_1$有$n$个行，且$A_1$的秩为$n,b_1$是$n$维列向量，使得$A_1x^{(0)}=b_1,A_2x^{(0)}\\geq b_2$"
   ]
  }
 ],
 "metadata": {
  "kernelspec": {
   "display_name": "Python 3",
   "language": "python",
   "name": "python3"
  },
  "language_info": {
   "codemirror_mode": {
    "name": "ipython",
    "version": 3
   },
   "file_extension": ".py",
   "mimetype": "text/x-python",
   "name": "python",
   "nbconvert_exporter": "python",
   "pygments_lexer": "ipython3",
   "version": "3.7.0"
  }
 },
 "nbformat": 4,
 "nbformat_minor": 4
}
